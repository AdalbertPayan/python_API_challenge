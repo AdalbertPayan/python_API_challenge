{
 "cells": [
  {
   "cell_type": "code",
   "execution_count": 2,
   "id": "3fc87d7d",
   "metadata": {},
   "outputs": [
    {
     "name": "stderr",
     "output_type": "stream",
     "text": [
      "/var/folders/dn/3l1c3sld1b77mm1d_l64vfx40000gn/T/ipykernel_19688/1828292645.py:7: DtypeWarning: Columns (0) have mixed types. Specify dtype option on import or set low_memory=False.\n",
      "  df = pd.read_csv(url)\n"
     ]
    },
    {
     "name": "stdout",
     "output_type": "stream",
     "text": [
      "   Year LocationAbbr LocationDesc GeographicLevel DataSource  \\\n",
      "0  1999           AL      Autauga          County       NVSS   \n",
      "1  2013           AL      Autauga          County       NVSS   \n",
      "2  2014           AL      Autauga          County       NVSS   \n",
      "3  2005           AL      Autauga          County       NVSS   \n",
      "4  2012           AL      Autauga          County       NVSS   \n",
      "\n",
      "                     Class              Topic  Data_Value Data_Value_Unit  \\\n",
      "0  Cardiovascular Diseases  All heart disease         NaN     per 100,000   \n",
      "1  Cardiovascular Diseases  All heart disease         NaN     per 100,000   \n",
      "2  Cardiovascular Diseases  All heart disease         NaN     per 100,000   \n",
      "3  Cardiovascular Diseases  All heart disease         NaN     per 100,000   \n",
      "4  Cardiovascular Diseases  All heart disease         NaN     per 100,000   \n",
      "\n",
      "                                    Data_Value_Type  ... Data_Value_Footnote  \\\n",
      "0  Age-Standardized, Spatiotemporally Smoothed Rate  ...    Value suppressed   \n",
      "1  Age-Standardized, Spatiotemporally Smoothed Rate  ...    Value suppressed   \n",
      "2  Age-Standardized, Spatiotemporally Smoothed Rate  ...    Value suppressed   \n",
      "3  Age-Standardized, Spatiotemporally Smoothed Rate  ...    Value suppressed   \n",
      "4  Age-Standardized, Spatiotemporally Smoothed Rate  ...    Value suppressed   \n",
      "\n",
      "  Confidence_limit_Low  Confidence_limit_High  StratificationCategory1  \\\n",
      "0                  NaN                    NaN                Age group   \n",
      "1                  NaN                    NaN                Age group   \n",
      "2                  NaN                    NaN                Age group   \n",
      "3                  NaN                    NaN                Age group   \n",
      "4                  NaN                    NaN                Age group   \n",
      "\n",
      "    Stratification1 StratificationCategory2                Stratification2  \\\n",
      "0  Ages 35-64 years                    Race  American Indian/Alaska Native   \n",
      "1  Ages 35-64 years                    Race  American Indian/Alaska Native   \n",
      "2  Ages 35-64 years                    Race  American Indian/Alaska Native   \n",
      "3  Ages 35-64 years                    Race  American Indian/Alaska Native   \n",
      "4  Ages 35-64 years                    Race  American Indian/Alaska Native   \n",
      "\n",
      "  StratificationCategory3 Stratification3 LocationID  \n",
      "0                     Sex         Overall       1001  \n",
      "1                     Sex         Overall       1001  \n",
      "2                     Sex         Overall       1001  \n",
      "3                     Sex         Overall       1001  \n",
      "4                     Sex         Overall       1001  \n",
      "\n",
      "[5 rows x 21 columns]\n"
     ]
    }
   ],
   "source": [
    "import pandas as pd\n",
    "\n",
    "\n",
    "# URL of the dataset in CSV format\n",
    "url = 'https://data.cdc.gov/api/views/7b9s-s8ck/rows.csv'\n",
    "\n",
    "# Read the data into a pandas DataFrame\n",
    "df = pd.read_csv(url)\n",
    "\n",
    "# Now you can work with the 'df' DataFrame in Jupyter Notebook\n",
    "# For example, you can display the first few rows of the DataFrame\n",
    "print(df.head())"
   ]
  },
  {
   "cell_type": "code",
   "execution_count": null,
   "id": "08fb5a42",
   "metadata": {},
   "outputs": [],
   "source": []
  }
 ],
 "metadata": {
  "kernelspec": {
   "display_name": "Python 3 (ipykernel)",
   "language": "python",
   "name": "python3"
  },
  "language_info": {
   "codemirror_mode": {
    "name": "ipython",
    "version": 3
   },
   "file_extension": ".py",
   "mimetype": "text/x-python",
   "name": "python",
   "nbconvert_exporter": "python",
   "pygments_lexer": "ipython3",
   "version": "3.10.9"
  }
 },
 "nbformat": 4,
 "nbformat_minor": 5
}
